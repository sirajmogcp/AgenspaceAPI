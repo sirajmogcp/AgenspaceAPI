{
  "nbformat": 4,
  "nbformat_minor": 0,
  "metadata": {
    "colab": {
      "provenance": [],
      "authorship_tag": "ABX9TyOpBeSfjfOxBDycmPC47FN3",
      "include_colab_link": true
    },
    "kernelspec": {
      "name": "python3",
      "display_name": "Python 3"
    },
    "language_info": {
      "name": "python"
    }
  },
  "cells": [
    {
      "cell_type": "markdown",
      "metadata": {
        "id": "view-in-github",
        "colab_type": "text"
      },
      "source": [
        "<a href=\"https://colab.research.google.com/github/sirajmogcp/AgenspaceAPI/blob/main/Agentspace_API.ipynb\" target=\"_parent\"><img src=\"https://colab.research.google.com/assets/colab-badge.svg\" alt=\"Open In Colab\"/></a>"
      ]
    },
    {
      "cell_type": "code",
      "execution_count": null,
      "metadata": {
        "id": "V_cfF-djljLh"
      },
      "outputs": [],
      "source": []
    },
    {
      "cell_type": "code",
      "source": [
        "pip install google-api-core google-cloud-discoveryengine protobuf google-auth google-cloud-aiplatform"
      ],
      "metadata": {
        "id": "zQgBCYhBQLGQ"
      },
      "execution_count": null,
      "outputs": []
    },
    {
      "cell_type": "code",
      "execution_count": 6,
      "metadata": {
        "id": "4725MICmQBFH"
      },
      "outputs": [],
      "source": [
        "from google.api_core.client_options import ClientOptions\n",
        "from google.cloud import discoveryengine_v1 as discoveryengine\n",
        "from google.protobuf.json_format import MessageToDict\n",
        "\n",
        "####\n",
        "from google.oauth2.credentials import Credentials"
      ]
    },
    {
      "cell_type": "code",
      "source": [
        "def get_search_sdk_response_acl(\n",
        "    creds:Credentials,\n",
        "    project_id: str,\n",
        "    location: str,\n",
        "    engine_id: str,\n",
        "    search_query: str,\n",
        "    prompt_preamble: str | None = None,\n",
        ") -> list[discoveryengine.SearchResponse]:\n",
        "    \"\"\"Retrieves search results from using the Discovery Engine Python SDK.\n",
        "\n",
        "    Args:\n",
        "        project_id: The Google Cloud project ID.\n",
        "        location: The location of the Discovery Engine (e.g., \"global\", \"us-central1\").\n",
        "        engine_id: The ID of the Discovery Engine.\n",
        "        search_query: The search query string.\n",
        "        prompt_preamble: The preamble to use for search summaries.\n",
        "\n",
        "    Returns:\n",
        "        A list of `discoveryengine.SearchResponse` objects containing the search results.\n",
        "        This list may be empty if no results are found.\n",
        "\n",
        "    \"\"\"\n",
        "\n",
        "    client_options = (\n",
        "        ClientOptions(api_endpoint=f\"{location}-discoveryengine.googleapis.com\")\n",
        "        if location != \"global\"\n",
        "        else None\n",
        "    )\n",
        "\n",
        "    client = discoveryengine.SearchServiceClient(credentials=creds, client_options=client_options)\n",
        "\n",
        "    serving_config = f\"projects/{project_id}/locations/{location}/collections/default_collection/engines/{engine_id}/servingConfigs/default_config\"\n",
        "\n",
        "    content_search_spec = discoveryengine.SearchRequest.ContentSearchSpec(\n",
        "\n",
        "        snippet_spec=discoveryengine.SearchRequest.ContentSearchSpec.SnippetSpec(\n",
        "            return_snippet=True\n",
        "        ),\n",
        "        summary_spec=discoveryengine.SearchRequest.ContentSearchSpec.SummarySpec(\n",
        "            summary_result_count=5,\n",
        "            include_citations=True,\n",
        "            ignore_adversarial_query=True,\n",
        "            ignore_non_summary_seeking_query=True,\n",
        "            model_prompt_spec=discoveryengine.SearchRequest.ContentSearchSpec.SummarySpec.ModelPromptSpec(\n",
        "                preamble=prompt_preamble\n",
        "            ),\n",
        "            model_spec=discoveryengine.SearchRequest.ContentSearchSpec.SummarySpec.ModelSpec(\n",
        "                version=\"preview\",\n",
        "            ),\n",
        "        ),\n",
        "        extractive_content_spec=discoveryengine.SearchRequest.ContentSearchSpec.ExtractiveContentSpec(\n",
        "            max_extractive_segment_count=2,\n",
        "            max_extractive_answer_count=2,\n",
        "            return_extractive_segment_score=True,\n",
        "        ),\n",
        "    )\n",
        "    request = discoveryengine.SearchRequest(\n",
        "        serving_config=serving_config,\n",
        "        query=search_query,\n",
        "        page_size=10,\n",
        "        content_search_spec=content_search_spec,\n",
        "        # query_expansion_spec=discoveryengine.SearchRequest.QueryExpansionSpec(\n",
        "        #     condition=discoveryengine.SearchRequest.QueryExpansionSpec.Condition.AUTO,\n",
        "        # ),\n",
        "        spell_correction_spec=discoveryengine.SearchRequest.SpellCorrectionSpec(\n",
        "            mode=discoveryengine.SearchRequest.SpellCorrectionSpec.Mode.AUTO\n",
        "        ),\n",
        "    )\n",
        "\n",
        "    response = client.search(request)\n",
        "    return response\n",
        "\n"
      ],
      "metadata": {
        "id": "I8H4oZdARhju"
      },
      "execution_count": 7,
      "outputs": []
    },
    {
      "cell_type": "code",
      "source": [
        "def get_answer_sdk_response_acl(\n",
        "    creds: Credentials,\n",
        "    project_id: str,\n",
        "    location: str,\n",
        "    engine_id: str,\n",
        "    query: str,\n",
        ") -> discoveryengine.AnswerQueryResponse:\n",
        "    \"\"\"Retrieves an answer from the Discovery Engine using the AnswerQuery API.\n",
        "\n",
        "    This function queries the specified Discovery Engine with the provided query\n",
        "    and configuration options using the `AnswerQuery` API. It supports\n",
        "    specifying a location-specific endpoint for the API.\n",
        "\n",
        "    Args:\n",
        "        project_id: The Google Cloud project ID.\n",
        "        location: The location of the Discovery Engine (e.g., \"global\", \"us-central1\").\n",
        "        engine_id: The ID of the Discovery Engine.\n",
        "        query: The query string.\n",
        "\n",
        "    Returns:\n",
        "        A `discoveryengine.AnswerQueryResponse` object containing the answer,\n",
        "        citations, and other related information.\n",
        "\n",
        "    #  For more information, refer to:\n",
        "    # https://cloud.google.com/generative-ai-app-builder/docs/locations#specify_a_multi-region_for_your_data_store\n",
        "    \"\"\"\n",
        "    client_options = (\n",
        "        ClientOptions(api_endpoint=f\"{location}-discoveryengine.googleapis.com\")\n",
        "        if location != \"global\"\n",
        "        else None\n",
        "    )\n",
        "\n",
        "    # Create a client\n",
        "    client = discoveryengine.ConversationalSearchServiceClient(credentials=creds,\n",
        "        client_options=client_options\n",
        "    )\n",
        "\n",
        "    # The full resource name of the Search serving config\n",
        "    serving_config = f\"projects/{project_id}/locations/{location}/collections/default_collection/engines/{engine_id}/servingConfigs/default_serving_config\"\n",
        "\n",
        "    query_understanding_spec = discoveryengine.AnswerQueryRequest.QueryUnderstandingSpec(\n",
        "        query_rephraser_spec=discoveryengine.AnswerQueryRequest.QueryUnderstandingSpec.QueryRephraserSpec(\n",
        "            disable=False,  # Optional: Disable query rephraser\n",
        "            max_rephrase_steps=1,  # Optional: Number of rephrase steps\n",
        "        ),\n",
        "        # Optional: Classify query types\n",
        "        query_classification_spec=discoveryengine.AnswerQueryRequest.QueryUnderstandingSpec.QueryClassificationSpec(\n",
        "            types=[\n",
        "                discoveryengine.AnswerQueryRequest.QueryUnderstandingSpec.QueryClassificationSpec.Type.ADVERSARIAL_QUERY,\n",
        "                discoveryengine.AnswerQueryRequest.QueryUnderstandingSpec.QueryClassificationSpec.Type.NON_ANSWER_SEEKING_QUERY,\n",
        "            ]  # Options: ADVERSARIAL_QUERY, NON_ANSWER_SEEKING_QUERY or both\n",
        "        ),\n",
        "    )\n",
        "\n",
        "\n",
        "    answer_generation_spec = discoveryengine.AnswerQueryRequest.AnswerGenerationSpec(\n",
        "        ignore_adversarial_query=False,  # Optional: Ignore adversarial query\n",
        "        ignore_non_answer_seeking_query=False,  # Optional: Ignore non-answer seeking query\n",
        "        ignore_low_relevant_content=False,  # Optional: Return fallback answer when content is not relevant\n",
        "        model_spec=discoveryengine.AnswerQueryRequest.AnswerGenerationSpec.ModelSpec(\n",
        "            #model_version=\"gemini-2.0-flash/answer_gen/v2\",  # Optional: Model to use for answer generation\n",
        "        ),\n",
        "        prompt_spec=discoveryengine.AnswerQueryRequest.AnswerGenerationSpec.PromptSpec(\n",
        "            preamble=\"Give a detailed answer.\",\n",
        "        ),\n",
        "        include_citations=True,\n",
        "        answer_language_code=\"en\",\n",
        "    )\n",
        "\n",
        "    # Initialize request argument(s)\n",
        "    request = discoveryengine.AnswerQueryRequest(\n",
        "        serving_config=serving_config,\n",
        "        query=discoveryengine.Query(text=query),\n",
        "        session=None,\n",
        "        query_understanding_spec=query_understanding_spec,\n",
        "        answer_generation_spec=answer_generation_spec,\n",
        "    )\n",
        "\n",
        "    # Make the request\n",
        "    response = client.answer_query(request)\n",
        "\n",
        "    return response\n"
      ],
      "metadata": {
        "id": "A0JZnkrmjCPe"
      },
      "execution_count": 8,
      "outputs": []
    },
    {
      "cell_type": "code",
      "source": [
        "\n",
        "import datetime # For session expiry\n",
        "\n",
        "# --- Vertex AI / Gemini Imports ---\n",
        "import vertexai\n",
        "\n",
        "# Using the preview namespace for safety settings as per common practice\n",
        "\n",
        "from google.protobuf.json_format import MessageToJson\n",
        "\n",
        "from google.api_core.client_options import ClientOptions\n",
        "from google.cloud import discoveryengine_v1 as discoveryengine\n",
        "from google.protobuf.json_format import MessageToDict\n"
      ],
      "metadata": {
        "id": "xREjBCD4SgNU"
      },
      "execution_count": 9,
      "outputs": []
    },
    {
      "cell_type": "code",
      "source": [
        "LOCATION = \"global\"  # @param {type: \"string\"}\n",
        "ENGINE_ID = \"\"  #  @param {type: \"string\", placeholder: \"[your-engine-id]\", isTemplate: true}\n",
        "PROJECT_ID = \"\"  # @param {type: \"string\", placeholder: \"[your-project-id]\", isTemplate: true}"
      ],
      "metadata": {
        "id": "pNm3F7VpS0x7"
      },
      "execution_count": 10,
      "outputs": []
    },
    {
      "cell_type": "code",
      "source": [],
      "metadata": {
        "id": "IfKyMwxdU26L"
      },
      "execution_count": null,
      "outputs": []
    },
    {
      "cell_type": "code",
      "execution_count": 11,
      "metadata": {
        "id": "8SV3J2MVrDfU"
      },
      "outputs": [],
      "source": [
        "import requests\n",
        "from urllib import parse\n",
        "\n",
        "GOOGLE_CLIENT_ID = \"\" #@param {type: \"string\", placeholder: \"[OAuth ClientID]\", isTemplate: true}\n",
        "GOOGLE_SECRET = \"\" #@param {type: \"string\", placeholder: \"[OAuth Client Secret]\", isTemplate: true}\n",
        "REDIRECT_URI = \"https://vertexaisearch.cloud.google.com/static/oauth/oauth.html\""
      ]
    },
    {
      "cell_type": "code",
      "source": [],
      "metadata": {
        "id": "YzrEEdS7VUcP"
      },
      "execution_count": null,
      "outputs": []
    },
    {
      "cell_type": "code",
      "source": [
        "def get_authorization_url() -> str:\n",
        "  \"\"\"Get authorization url.\"\"\"\n",
        "  base_url = \"https://accounts.google.com/o/oauth2/v2/auth?\"\n",
        "  scopes = \" \".join([\n",
        "      \"https://www.googleapis.com/auth/calendar.events\",\n",
        "      \"https://www.googleapis.com/auth/calendar.readonly\",\n",
        "      \"https://www.googleapis.com/auth/userinfo.email\",\n",
        "      \"https://www.googleapis.com/auth/drive\",\n",
        "      \"https://www.googleapis.com/auth/cloud-platform\",\n",
        "  ])\n",
        "  params = {\n",
        "      \"client_id\": GOOGLE_CLIENT_ID,\n",
        "      \"redirect_uri\": REDIRECT_URI,\n",
        "      \"scope\": scopes,\n",
        "      \"include_granted_scopes\": \"true\",\n",
        "      \"response_type\": \"code\",\n",
        "  }\n",
        "  return base_url + parse.urlencode(params)\n"
      ],
      "metadata": {
        "id": "w-Poh0FBrtmu"
      },
      "execution_count": 12,
      "outputs": []
    },
    {
      "cell_type": "code",
      "source": [],
      "metadata": {
        "id": "cjNpH2TRVZ38"
      },
      "execution_count": null,
      "outputs": []
    },
    {
      "cell_type": "code",
      "source": [
        "print(get_authorization_url())\n",
        "redirected_uri = input(\"Please paste the url you're redirected to.\")"
      ],
      "metadata": {
        "colab": {
          "base_uri": "https://localhost:8080/"
        },
        "id": "QfBXzCBUr-dN",
        "outputId": "562e3cee-ca3a-42a8-d3dd-ca2c4549bfa8"
      },
      "execution_count": null,
      "outputs": [
        {
          "output_type": "stream",
          "name": "stdout",
          "text": [
            "https://accounts.google.com/o/oauth2/v2/auth?client_id=&redirect_uri=https%3A%2F%2Fvertexaisearch.cloud.google.com%2Fstatic%2Foauth%2Foauth.html&scope=https%3A%2F%2Fwww.googleapis.com%2Fauth%2Fcalendar.events+https%3A%2F%2Fwww.googleapis.com%2Fauth%2Fcalendar.readonly+https%3A%2F%2Fwww.googleapis.com%2Fauth%2Fuserinfo.email+https%3A%2F%2Fwww.googleapis.com%2Fauth%2Fdrive+https%3A%2F%2Fwww.googleapis.com%2Fauth%2Fcloud-platform&include_granted_scopes=true&response_type=code\n"
          ]
        }
      ]
    },
    {
      "cell_type": "code",
      "source": [],
      "metadata": {
        "id": "8SkfDiakVle5"
      },
      "execution_count": null,
      "outputs": []
    },
    {
      "cell_type": "code",
      "source": [
        "  parsed = parse.urlparse(redirected_uri.strip().replace(\"#\", \"?\"))\n",
        "  authorization_code = parse.parse_qs(parsed.query)[\"code\"][0]\n",
        "  data = parse.urlencode({\n",
        "      \"client_id\": GOOGLE_CLIENT_ID,\n",
        "      \"client_secret\": GOOGLE_SECRET,\n",
        "      \"code\": authorization_code,\n",
        "      \"grant_type\": \"authorization_code\",\n",
        "      \"redirect_uri\": REDIRECT_URI,\n",
        "  })\n",
        "  response = requests.post(\n",
        "      \"https://oauth2.googleapis.com/token\",\n",
        "      headers={\"content-type\": \"application/x-www-form-urlencoded\"},\n",
        "      data=data,\n",
        "  ).json()\n",
        "  print(response)\n",
        "  access_token = response['access_token']"
      ],
      "metadata": {
        "id": "EZBlzo29sTJD"
      },
      "execution_count": null,
      "outputs": []
    },
    {
      "cell_type": "code",
      "source": [],
      "metadata": {
        "id": "fjNxRv_XVrF1"
      },
      "execution_count": null,
      "outputs": []
    },
    {
      "cell_type": "code",
      "source": [
        "\n",
        "requests.post(\n",
        "      \"https://discoveryengine.googleapis.com/v1alpha/projects/811614912259/locations/global/collections/default_collection/engines/energyspace_1745599996211/servingConfigs/default_search:search\",\n",
        "      headers={\n",
        "          \"Authorization\": f\"Bearer {access_token}\",\n",
        "      }, json=dict(query=\"Lease\")).json()"
      ],
      "metadata": {
        "id": "XExhtT3IsYee",
        "collapsed": true
      },
      "execution_count": null,
      "outputs": []
    },
    {
      "cell_type": "code",
      "source": [
        "  from google.oauth2.credentials import Credentials\n",
        "  creds = Credentials(token=access_token)"
      ],
      "metadata": {
        "id": "U2BretEzWUVM"
      },
      "execution_count": null,
      "outputs": []
    },
    {
      "cell_type": "code",
      "source": [
        "import json\n"
      ],
      "metadata": {
        "id": "piMyKtHSXb0b"
      },
      "execution_count": null,
      "outputs": []
    },
    {
      "cell_type": "code",
      "source": [
        "user_message=\"Lease\"\n",
        "response=get_search_sdk_response_acl(creds, PROJECT_ID,LOCATION,ENGINE_ID, user_message)\n",
        "response=get_answer_sdk_response_acl(creds, PROJECT_ID,LOCATION,ENGINE_ID, user_message)\n",
        "print(response)\n"
      ],
      "metadata": {
        "collapsed": true,
        "id": "uUnOkKsoWX5Y"
      },
      "execution_count": null,
      "outputs": []
    }
  ]
}